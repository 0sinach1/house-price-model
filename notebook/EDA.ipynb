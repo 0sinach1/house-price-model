{
 "cells": [
  {
   "cell_type": "markdown",
   "id": "e4519d64",
   "metadata": {},
   "source": [
    "# House Price Prediction in Nigeria\n",
    "\n",
    "This notebook covers exploratory data analysis, preprocessing, modeling, and evaluation for predicting house prices in Nigeria."
   ]
  }
 ],
 "metadata": {
  "kernelspec": {
   "display_name": "base",
   "language": "python",
   "name": "python3"
  },
  "language_info": {
   "name": "python",
   "version": "3.12.4"
  }
 },
 "nbformat": 4,
 "nbformat_minor": 5
}
