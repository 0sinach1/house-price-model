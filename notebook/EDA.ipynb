{
 "cells": [
  {
   "cell_type": "markdown",
   "id": "e4519d64",
   "metadata": {},
   "source": [
    "# House Price Prediction in Nigeria\n",
    "\n",
    "This notebook covers exploratory data analysis, preprocessing, modeling, and evaluation for predicting house prices in Nigeria."
   ]
  },
  {
   "cell_type": "markdown",
   "id": "708bb022",
   "metadata": {},
   "source": [
    "## 1. Import Required Libraries\n",
    "\n",
    "We will use pandas, numpy, matplotlib, seaborn, plotly, and scikit-learn for data analysis and modeling."
   ]
  },
  {
   "cell_type": "code",
   "execution_count": 1,
   "id": "ac23902d",
   "metadata": {},
   "outputs": [],
   "source": [
    "import numpy as np\n",
    "import pandas as pd\n",
    "import matplotlib.pyplot as plt\n",
    "import seaborn as sns\n",
    "import plotly.express as px\n",
    "\n",
    "from sklearn.model_selection import train_test_split\n",
    "from sklearn.linear_model import LinearRegression\n",
    "from sklearn.metrics import mean_squared_error, r2_score\n",
    "from sklearn.preprocessing import LabelEncoder, StandardScaler"
   ]
  },
  {
   "cell_type": "markdown",
   "id": "bd613d43",
   "metadata": {},
   "source": [
    "## 2. Load the Dataset\n",
    "\n",
    "Let's load the Nigeria house prices dataset and display the first few rows."
   ]
  },
  {
   "cell_type": "code",
   "execution_count": 3,
   "id": "3a2eda82",
   "metadata": {},
   "outputs": [
    {
     "data": {
      "text/html": [
       "<div>\n",
       "<style scoped>\n",
       "    .dataframe tbody tr th:only-of-type {\n",
       "        vertical-align: middle;\n",
       "    }\n",
       "\n",
       "    .dataframe tbody tr th {\n",
       "        vertical-align: top;\n",
       "    }\n",
       "\n",
       "    .dataframe thead th {\n",
       "        text-align: right;\n",
       "    }\n",
       "</style>\n",
       "<table border=\"1\" class=\"dataframe\">\n",
       "  <thead>\n",
       "    <tr style=\"text-align: right;\">\n",
       "      <th></th>\n",
       "      <th>bedrooms</th>\n",
       "      <th>bathrooms</th>\n",
       "      <th>toilets</th>\n",
       "      <th>parking_space</th>\n",
       "      <th>title</th>\n",
       "      <th>town</th>\n",
       "      <th>state</th>\n",
       "      <th>price</th>\n",
       "    </tr>\n",
       "  </thead>\n",
       "  <tbody>\n",
       "    <tr>\n",
       "      <th>0</th>\n",
       "      <td>6.0</td>\n",
       "      <td>5.0</td>\n",
       "      <td>5.0</td>\n",
       "      <td>4.0</td>\n",
       "      <td>Detached Duplex</td>\n",
       "      <td>Mabushi</td>\n",
       "      <td>Abuja</td>\n",
       "      <td>450000000.0</td>\n",
       "    </tr>\n",
       "    <tr>\n",
       "      <th>1</th>\n",
       "      <td>4.0</td>\n",
       "      <td>5.0</td>\n",
       "      <td>5.0</td>\n",
       "      <td>4.0</td>\n",
       "      <td>Terraced Duplexes</td>\n",
       "      <td>Katampe</td>\n",
       "      <td>Abuja</td>\n",
       "      <td>800000000.0</td>\n",
       "    </tr>\n",
       "    <tr>\n",
       "      <th>2</th>\n",
       "      <td>4.0</td>\n",
       "      <td>5.0</td>\n",
       "      <td>5.0</td>\n",
       "      <td>4.0</td>\n",
       "      <td>Detached Duplex</td>\n",
       "      <td>Lekki</td>\n",
       "      <td>Lagos</td>\n",
       "      <td>120000000.0</td>\n",
       "    </tr>\n",
       "    <tr>\n",
       "      <th>3</th>\n",
       "      <td>4.0</td>\n",
       "      <td>4.0</td>\n",
       "      <td>5.0</td>\n",
       "      <td>6.0</td>\n",
       "      <td>Detached Duplex</td>\n",
       "      <td>Ajah</td>\n",
       "      <td>Lagos</td>\n",
       "      <td>40000000.0</td>\n",
       "    </tr>\n",
       "    <tr>\n",
       "      <th>4</th>\n",
       "      <td>4.0</td>\n",
       "      <td>4.0</td>\n",
       "      <td>5.0</td>\n",
       "      <td>2.0</td>\n",
       "      <td>Semi Detached Duplex</td>\n",
       "      <td>Lekki</td>\n",
       "      <td>Lagos</td>\n",
       "      <td>75000000.0</td>\n",
       "    </tr>\n",
       "  </tbody>\n",
       "</table>\n",
       "</div>"
      ],
      "text/plain": [
       "   bedrooms  bathrooms  toilets  parking_space                 title     town  \\\n",
       "0       6.0        5.0      5.0            4.0       Detached Duplex  Mabushi   \n",
       "1       4.0        5.0      5.0            4.0     Terraced Duplexes  Katampe   \n",
       "2       4.0        5.0      5.0            4.0       Detached Duplex    Lekki   \n",
       "3       4.0        4.0      5.0            6.0       Detached Duplex     Ajah   \n",
       "4       4.0        4.0      5.0            2.0  Semi Detached Duplex    Lekki   \n",
       "\n",
       "   state        price  \n",
       "0  Abuja  450000000.0  \n",
       "1  Abuja  800000000.0  \n",
       "2  Lagos  120000000.0  \n",
       "3  Lagos   40000000.0  \n",
       "4  Lagos   75000000.0  "
      ]
     },
     "execution_count": 3,
     "metadata": {},
     "output_type": "execute_result"
    }
   ],
   "source": [
    "# Load the dataset\n",
    "df = pd.read_csv(\"../data/nigeria_houses_data.csv\")\n",
    "df.head()"
   ]
  },
  {
   "cell_type": "code",
   "execution_count": null,
   "id": "3eb63839",
   "metadata": {},
   "outputs": [],
   "source": []
  }
 ],
 "metadata": {
  "kernelspec": {
   "display_name": "base",
   "language": "python",
   "name": "python3"
  },
  "language_info": {
   "codemirror_mode": {
    "name": "ipython",
    "version": 3
   },
   "file_extension": ".py",
   "mimetype": "text/x-python",
   "name": "python",
   "nbconvert_exporter": "python",
   "pygments_lexer": "ipython3",
   "version": "3.12.4"
  }
 },
 "nbformat": 4,
 "nbformat_minor": 5
}
