{
 "cells": [
  {
   "cell_type": "markdown",
   "id": "e4519d64",
   "metadata": {},
   "source": [
    "# House Price Prediction in Nigeria\n",
    "\n",
    "This notebook covers exploratory data analysis, preprocessing, modeling, and evaluation for predicting house prices in Nigeria."
   ]
  },
  {
   "cell_type": "markdown",
   "id": "708bb022",
   "metadata": {},
   "source": [
    "## 1. Import Required Libraries\n",
    "\n",
    "We will use pandas, numpy, matplotlib, seaborn, plotly, and scikit-learn for data analysis and modeling."
   ]
  },
  {
   "cell_type": "code",
   "execution_count": 1,
   "id": "ac23902d",
   "metadata": {},
   "outputs": [],
   "source": [
    "import numpy as np\n",
    "import pandas as pd\n",
    "import matplotlib.pyplot as plt\n",
    "import seaborn as sns\n",
    "import plotly.express as px\n",
    "\n",
    "from sklearn.model_selection import train_test_split\n",
    "from sklearn.linear_model import LinearRegression\n",
    "from sklearn.metrics import mean_squared_error, r2_score\n",
    "from sklearn.preprocessing import LabelEncoder, StandardScaler"
   ]
  },
  {
   "cell_type": "code",
   "execution_count": null,
   "id": "15d328ac",
   "metadata": {},
   "outputs": [],
   "source": []
  }
 ],
 "metadata": {
  "kernelspec": {
   "display_name": "base",
   "language": "python",
   "name": "python3"
  },
  "language_info": {
   "codemirror_mode": {
    "name": "ipython",
    "version": 3
   },
   "file_extension": ".py",
   "mimetype": "text/x-python",
   "name": "python",
   "nbconvert_exporter": "python",
   "pygments_lexer": "ipython3",
   "version": "3.12.4"
  }
 },
 "nbformat": 4,
 "nbformat_minor": 5
}
